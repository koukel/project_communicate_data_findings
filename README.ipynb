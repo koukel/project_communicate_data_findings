{
 "cells": [
  {
   "cell_type": "markdown",
   "metadata": {},
   "source": [
    "# 2007 Flights Data Exploration\n",
    "\n",
    "\n",
    "## Dataset\n",
    "\n",
    "This dataset was provided by RITA and contains information for more than 7 million flights originating in the United States in 2007.  Data includes both actual and expected departure and arrival times, cancellation information, origin and destination information, and delays.  The main data set is available for download https://dataverse.harvard.edu/file.xhtml?persistentId=doi:10.7910/DVN/HG7NV7/2BHLWK&version=1.0 and supplementary information for locations and carriers is available at http://stat-computing.org/dataexpo/2009/supplemental-data.html.\n",
    "\n",
    "\n",
    "## Summary of Findings\n",
    "\n",
    "My main focus was on delays and cancellations with respect to carriers and origin location.  In my exploration I found that delays greater than 30 minutes and cancellations are fairly infrequent.  The chance for a delayed flight increases as the day goes on and peaks in the early evening.  Outside of the areas of interest I only noticed relationships that made sense with the numerical variables (ex. a longer distance means more elapsed time, a departure delay results in an arrival delay). \n",
    "\n",
    "\n",
    "## Key Insights for Presentation\n",
    "\n",
    "For the presentation, I mainly focused on answering questions about delays and cancellations.  I mention the reasons for cancellations and the airlines most likely to cancel flights.  I show the frequency of flight delays, the best times to fly, and the airlines more likely to have delays greater than 30 minutes. \n",
    "\n",
    "\n",
    "## References\n",
    "\n",
    "I used the following websites to answer questions while doing my exploration:\n",
    "\n",
    "* https://stackoverflow.com/questions/14852821/aligning-rotated-xticklabels-with-their-respective-xticks\n",
    "* https://stackoverflow.com/questions/44885933/how-to-sort-bars-in-a-bar-plot-in-ascending-order\n",
    "* https://stackoverflow.com/questions/48962594/unable-to-plot-double-bar-bar-plot-using-pyplot-for-ndarray/48963758\n",
    "* https://stackoverflow.com/questions/54615686/how-to-plot-a-histogram-with-nan\n",
    "* https://stackoverflow.com/questions/21625850/how-to-subset-pandas-time-series-by-time-of-day\n",
    "* https://stackabuse.com/converting-strings-to-datetime-in-python/\n",
    "* https://stackoverflow.com/questions/45564333/issues-with-grouping-pandas-dataframe-by-hour"
   ]
  },
  {
   "cell_type": "code",
   "execution_count": null,
   "metadata": {},
   "outputs": [],
   "source": []
  }
 ],
 "metadata": {
  "kernelspec": {
   "display_name": "Python 3",
   "language": "python",
   "name": "python3"
  },
  "language_info": {
   "codemirror_mode": {
    "name": "ipython",
    "version": 3
   },
   "file_extension": ".py",
   "mimetype": "text/x-python",
   "name": "python",
   "nbconvert_exporter": "python",
   "pygments_lexer": "ipython3",
   "version": "3.6.3"
  }
 },
 "nbformat": 4,
 "nbformat_minor": 2
}
